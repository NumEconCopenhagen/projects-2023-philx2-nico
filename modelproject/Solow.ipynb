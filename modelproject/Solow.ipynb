{
 "cells": [
  {
   "cell_type": "markdown",
   "metadata": {},
   "source": [
    "# Solowmodel with immigration"
   ]
  },
  {
   "cell_type": "code",
   "execution_count": 8,
   "metadata": {},
   "outputs": [
    {
     "name": "stdout",
     "output_type": "stream",
     "text": [
      "The autoreload extension is already loaded. To reload it, use:\n",
      "  %reload_ext autoreload\n"
     ]
    },
    {
     "ename": "ImportError",
     "evalue": "cannot import name 'SolowModelClass' from 'Solow' (/Users/nicolaimoller/Desktop/6. Semester/Introduction to programming/projects-2023-philx2-nico/modelproject/Solow.py)",
     "output_type": "error",
     "traceback": [
      "\u001b[0;31m---------------------------------------------------------------------------\u001b[0m",
      "\u001b[0;31mImportError\u001b[0m                               Traceback (most recent call last)",
      "Cell \u001b[0;32mIn[8], line 18\u001b[0m\n\u001b[1;32m     16\u001b[0m \u001b[39m# local modules\u001b[39;00m\n\u001b[1;32m     17\u001b[0m \u001b[39mimport\u001b[39;00m \u001b[39mSolow\u001b[39;00m\n\u001b[0;32m---> 18\u001b[0m \u001b[39mfrom\u001b[39;00m \u001b[39mSolow\u001b[39;00m \u001b[39mimport\u001b[39;00m SolowModelClass \n\u001b[1;32m     19\u001b[0m model \u001b[39m=\u001b[39m SolowModelClass()\n",
      "\u001b[0;31mImportError\u001b[0m: cannot import name 'SolowModelClass' from 'Solow' (/Users/nicolaimoller/Desktop/6. Semester/Introduction to programming/projects-2023-philx2-nico/modelproject/Solow.py)"
     ]
    }
   ],
   "source": [
    "import numpy as np\n",
    "from scipy import optimize\n",
    "import sympy as sm\n",
    "import matplotlib.pyplot as plt\n",
    "from sympy.solvers import solve\n",
    "from sympy import Symbol, symbols, Eq, solve\n",
    "import ipywidgets as widgets\n",
    "from ipywidgets import interact, interactive, fixed, interact_manual\n",
    "\n",
    "from tabulate import tabulate\n",
    "\n",
    "# autoreload modules when code is run\n",
    "%load_ext autoreload\n",
    "%autoreload 2\n",
    "\n",
    "# local modules\n",
    "import modelproject\n",
    "from modelproject import SolowModelClass \n",
    "model = SolowModelClass()"
   ]
  },
  {
   "cell_type": "markdown",
   "metadata": {},
   "source": [
    "The Solow model with immigrant workers is an extension of the Solow-Swan growth model that takes into account the impact of immigration on economic growth. In this model, immigrants are treated as a separate factor of production and are assumed to have a different productivity level than native workers.\n",
    "\n",
    "The purpose of this model is to analyze the effect of immigration on the long-run economic growth of a country. By incorporating immigrant workers, the model can capture the impact of changes in the immigrant population on key economic variables such as output, capital accumulation, and technology.\n",
    "\n",
    "In the Solow model with immigrant workers, the economy is assumed to produce a single good using physical capital and labor, where labor is composed of two types of workers: native and immigrant workers. The productivity of immigrant workers is assumed to be different from that of native workers, and this difference is captured by a parameter that represents the degree of substitutability between the two types of labor.\n",
    "\n",
    "The model also incorporates the dynamics of capital accumulation and technological progress, as in the original Solow-Swan model. However, the addition of immigrant workers introduces some new features, such as the effect of immigration on the savings rate, the impact of immigration on the real wage rate of native workers, and the effect of immigration on the long-run rate of economic growth.\n",
    "\n",
    "Overall, the Solow model with immigrant workers provides a framework for analyzing the impact of immigration on the long-run economic growth of a country, and can be used to inform policy decisions related to immigration and economic development."
   ]
  },
  {
   "attachments": {},
   "cell_type": "markdown",
   "metadata": {},
   "source": [
    "# Model Description\n",
    "\n",
    "Our model is inspired by the Macroeconomics I course Exam from the 22nd of June 2022. This exam investigates the Solow model with immigrant workers and how an increase in immigrant workers can effect GDP per capita."
   ]
  },
  {
   "attachments": {},
   "cell_type": "markdown",
   "metadata": {},
   "source": [
    "$ Y_t = K^\\alpha _t (A_t L)^{1-\\alpha} , 0 < \\alpha < 1 $\n",
    "\n",
    "$L = (l_i^{\\frac{\\sigma-1}{\\sigma}} + l_m^{\\frac{\\sigma-1}{\\sigma}})^{\\frac{\\sigma}{\\sigma-1}} , \\sigma>0 $ and  $\\sigma ≠ 1$\n",
    "\n",
    "$K_{t+1} = s_K Y_t + (1-\\delta)K_t, 0<s_K<1, 0<\\delta<1, K_0>0 $\n",
    "\n",
    "\n",
    "$A_{t+1} = (1+g)A_t , g>0, A_0 >0 $"
   ]
  },
  {
   "attachments": {},
   "cell_type": "markdown",
   "metadata": {},
   "source": [
    "The first equation represents a Cobb-Douglas production function that describes total output ($Y_t$) as a function of physical capital ($K_t$), the level of technology ($A_t$), and \"labor\" (L), where L is a CES aggregate of native and immigrant workers ($l_i$ and $l_m$) that together constitute the total labor force given by the second equation, where $\\sigma$ represents the degree of substitutability between them. \n",
    "\n",
    "The third equation describes how capital develops over time, where s represents the savings rate and $\\delta$ represents the depreciation rate. \n",
    "\n",
    "Fourth equation describes how the level of technology grows over time, where g is the exogenous growth rate. Note that the total labor force does not grow over time (therefore n = 0).\n",
    "\n",
    "The real rental rate is given by $r_t = \\frac{\\partial Y_t}{K_t}$, and the real wages for natives and immigrants are given by $w_{it} = \\frac{\\partial Yt}{\\partial l_i}$ and $w_{mt} = \\frac{\\partial Y_t}{ \\partial l_m}$, respectively. \n",
    "\n",
    "We use the definitions $\\tilde k_t = \\frac{K_t}{L}, \\tilde y_t = \\frac{Y_t}{L}, \\tilde k_t = \\frac{k_t}{A_t} $, and $\\tilde y_t = \\frac{y_t}{A_t} $."
   ]
  },
  {
   "cell_type": "markdown",
   "metadata": {},
   "source": [
    "## Analytical solution"
   ]
  },
  {
   "attachments": {},
   "cell_type": "markdown",
   "metadata": {},
   "source": [
    "The transition for capital per worker is found as follows:\n",
    "\n",
    "$\\frac{K_{t+1}}{LA_{t+1}} = \\frac{sY_t+(1-\\delta)K_t}{LA_{t+1}} \\Leftrightarrow$\n",
    "\n",
    "$ \\tilde k_{t+1} = \\frac{sY_t+(1-\\delta)K_t}{L(1+g)A_t} \\Leftrightarrow$\n",
    "\n",
    "$ \\tilde k_{t+1} = \\frac{1}{1+g} (s \\tilde y_t +(1-\\delta)\\tilde k_t) $\n",
    "\n",
    "Where $y_t$ can be derived by multiplying with $\\frac{1}{A_tL}$, which gives $\\tilde y_t = \\tilde k^\\alpha _t$ and this leads us to:\n",
    "\n",
    "$ \\tilde k_{t+1} = \\frac{1}{1+g} (s \\tilde k^\\alpha _t +(1-\\delta)\\tilde k_t) $\n"
   ]
  },
  {
   "attachments": {},
   "cell_type": "markdown",
   "metadata": {},
   "source": [
    "In steady state we know that $\\tilde k_t = \\tilde k_{t+1} = \\tilde k^*$. \n",
    "The function defined in the py-file is used to analytical solve the steady state value for capital :"
   ]
  },
  {
   "cell_type": "markdown",
   "metadata": {},
   "source": [
    "If your model allows for an analytical solution, you should provide here.\n",
    "\n",
    "You may use Sympy for this. Then you can characterize the solution as a function of a parameter of the model.\n",
    "\n",
    "To characterize the solution, first derive a steady state equation as a function of a parameter using Sympy.solve and then turn it into a python function by Sympy.lambdify. See the lecture notes for details. "
   ]
  },
  {
   "cell_type": "markdown",
   "metadata": {},
   "source": [
    "## Numerical solution"
   ]
  },
  {
   "cell_type": "markdown",
   "metadata": {},
   "source": [
    "You can always solve a model numerically. \n",
    "\n",
    "Define first the set of parameters you need. \n",
    "\n",
    "Then choose one of the optimization algorithms that we have gone through in the lectures based on what you think is most fitting for your model.\n",
    "\n",
    "Are there any problems with convergence? Does the model converge for all starting values? Make a lot of testing to figure these things out. "
   ]
  },
  {
   "cell_type": "markdown",
   "metadata": {},
   "source": [
    "# Further analysis"
   ]
  },
  {
   "cell_type": "markdown",
   "metadata": {},
   "source": [
    "Make detailed vizualizations of how your model changes with parameter values. \n",
    "\n",
    "Try to make an extension of the model. "
   ]
  },
  {
   "cell_type": "markdown",
   "metadata": {},
   "source": [
    "# Conclusion"
   ]
  },
  {
   "cell_type": "markdown",
   "metadata": {},
   "source": [
    "Add concise conclusion. "
   ]
  }
 ],
 "metadata": {
  "kernelspec": {
   "display_name": "base",
   "language": "python",
   "name": "python3"
  },
  "language_info": {
   "codemirror_mode": {
    "name": "ipython",
    "version": 3
   },
   "file_extension": ".py",
   "mimetype": "text/x-python",
   "name": "python",
   "nbconvert_exporter": "python",
   "pygments_lexer": "ipython3",
   "version": "3.9.16"
  },
  "orig_nbformat": 4
 },
 "nbformat": 4,
 "nbformat_minor": 2
}

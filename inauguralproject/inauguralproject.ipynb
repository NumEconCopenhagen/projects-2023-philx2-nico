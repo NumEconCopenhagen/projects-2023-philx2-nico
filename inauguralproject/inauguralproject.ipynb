{
 "cells": [
  {
   "cell_type": "markdown",
   "metadata": {},
   "source": [
    "# Inaugural Project"
   ]
  },
  {
   "attachments": {},
   "cell_type": "markdown",
   "metadata": {},
   "source": [
    "> **Note the following:** \n",
    "> 1. This is an example of how to structure your **inaugural project**.\n",
    "> 1. Remember the general advice on structuring and commenting your code\n",
    "> 1. The `inauguralproject.py` file includes a function which can be used multiple times in this notebook."
   ]
  },
  {
   "cell_type": "markdown",
   "metadata": {},
   "source": [
    "Imports and set magics:"
   ]
  },
  {
   "cell_type": "code",
   "execution_count": 56,
   "metadata": {},
   "outputs": [
    {
     "name": "stdout",
     "output_type": "stream",
     "text": [
      "The autoreload extension is already loaded. To reload it, use:\n",
      "  %reload_ext autoreload\n"
     ]
    }
   ],
   "source": [
    "import numpy as np\n",
    "from types import SimpleNamespace\n",
    "from inauguralproject import HouseholdSpecializationModelClass\n",
    "import pandas as pd\n",
    "import matplotlib.pyplot as plt\n",
    "##\n",
    "# autoreload modules when code is run. Otherwise, python will not see recent changes. \n",
    "%load_ext autoreload\n",
    "%autoreload 2\n",
    "\n",
    "# Import your own code\n",
    "import inauguralproject"
   ]
  },
  {
   "cell_type": "markdown",
   "metadata": {},
   "source": [
    "# Question 1"
   ]
  },
  {
   "cell_type": "markdown",
   "metadata": {},
   "source": [
    "**Explain how you solve the model**"
   ]
  },
  {
   "cell_type": "code",
   "execution_count": 57,
   "metadata": {},
   "outputs": [
    {
     "name": "stdout",
     "output_type": "stream",
     "text": [
      "sigma/alpha  0.25  0.50  0.75\n",
      "                             \n",
      "0.5          0.55  1.00  1.83\n",
      "1.0          0.31  1.00  3.25\n",
      "1.5          0.21  1.00  4.67\n"
     ]
    }
   ],
   "source": [
    "# code for solving the model (remember documentation and comments)\n",
    "\n",
    "model = HouseholdSpecializationModelClass()\n",
    "\n",
    "#a. Create list with values of alpha and sigma\n",
    "alpha_list = [0.25, 0.5, 0.75]\n",
    "sigma_list = [0.5,1.0,1.5]\n",
    "\n",
    "df = pd.DataFrame(columns = pd.Index(alpha_list, name=\"sigma/alpha\"), index = pd.Index(sigma_list, name=\"\"))\n",
    "\n",
    "\n",
    "for i in alpha_list:\n",
    "    for j in sigma_list:\n",
    "        model.par.alpha = i\n",
    "        model.par.sigma = j\n",
    "        results = model.solve_discrete()\n",
    "        ratio = results.HF / results.HM\n",
    "        df.loc[j,i] = f\"{ratio:.2f}\"\n",
    "\n",
    "print(df)\n",
    "\n"
   ]
  },
  {
   "cell_type": "markdown",
   "metadata": {},
   "source": [
    "# Question 2"
   ]
  },
  {
   "cell_type": "markdown",
   "metadata": {},
   "source": [
    "Explain your code and procedure"
   ]
  },
  {
   "cell_type": "code",
   "execution_count": 58,
   "metadata": {},
   "outputs": [
    {
     "name": "stderr",
     "output_type": "stream",
     "text": [
      "/Users/NicolaiMoller/Desktop/6. Semester/Programming/projects-2023-philx2-nico/inauguralproject/inauguralproject.py:71: RuntimeWarning: invalid value encountered in reciprocal\n",
      "  \n"
     ]
    },
    {
     "data": {
      "image/png": "[encoded data removed]",
      "text/plain": [
       "<Figure size 640x480 with 1 Axes>"
      ]
     },
     "metadata": {},
     "output_type": "display_data"
    }
   ],
   "source": [
    "# code\n",
    "#Question 2\n",
    "# Question 2 Ny\n",
    "\n",
    "# reset alpha and sigma to baseline values\n",
    "model.par.alpha = 0.5\n",
    "model.par.sigma = 1.0\n",
    "\n",
    "#Create empty lists\n",
    "logHF_HM = np.zeros(5)\n",
    "logwF_wM = np.zeros(5)\n",
    "\n",
    "#solve model and create relevant variables\n",
    "for i in range(5):\n",
    "    model.par.wF = model.par.wF_vec[i]\n",
    "    results = model.solve_discrete()\n",
    "    logHF_HM[i] = np.log( results.HF/ results.HM )\n",
    "    logwF_wM[i] = np.log(model.par.wF_vec[i])\n",
    "\n",
    "\n",
    "# create the figure\n",
    "fig = plt.figure()\n",
    "\n",
    "# plot\n",
    "ax = fig.add_subplot(1,1,1)\n",
    "\n",
    "ax.plot(logwF_wM,logHF_HM)\n",
    "\n",
    "ax.set_title(\"Plot of \" + r'$\\log(\\frac{H_F}{H_M})$' + \" against \" r'$\\log(\\frac{w_F}{w_M})$')\n",
    "ax.set_xlabel(r'$\\log(\\frac{w_F}{w_M})$')\n",
    "ax.set_ylabel(r'$\\log(\\frac{H_F}{H_M})$');\n",
    "\n",
    "plt.show()\n"
   ]
  },
  {
   "cell_type": "markdown",
   "metadata": {},
   "source": [
    "# Question 3"
   ]
  },
  {
   "cell_type": "markdown",
   "metadata": {},
   "source": [
    "Explain your code and procedure"
   ]
  },
  {
   "cell_type": "code",
   "execution_count": 59,
   "metadata": {},
   "outputs": [
    {
     "name": "stdout",
     "output_type": "stream",
     "text": [
      "3\n"
     ]
    }
   ],
   "source": [
    "# code\n",
    "\n",
    "a=1\n",
    "b=2\n",
    "c=a+b\n",
    "print(c)"
   ]
  },
  {
   "cell_type": "markdown",
   "metadata": {},
   "source": [
    "ADD CONCISE CONLUSION."
   ]
  }
 ],
 "metadata": {
  "kernelspec": {
   "display_name": "base",
   "language": "python",
   "name": "python3"
  },
  "language_info": {
   "codemirror_mode": {
    "name": "ipython",
    "version": 3
   },
   "file_extension": ".py",
   "mimetype": "text/x-python",
   "name": "python",
   "nbconvert_exporter": "python",
   "pygments_lexer": "ipython3",
   "version": "3.9.13"
  },
  "toc-autonumbering": true,
  "vscode": {
   "interpreter": {
    "hash": "df422541a183e0f3ec83ad888f5142e47905fefefb3149991e8706602493248f"
   }
  }
 },
 "nbformat": 4,
 "nbformat_minor": 4
}

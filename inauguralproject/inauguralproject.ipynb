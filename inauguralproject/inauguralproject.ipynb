{
 "cells": [
  {
   "cell_type": "markdown",
   "metadata": {},
   "source": [
    "# Inaugural Project"
   ]
  },
  {
   "attachments": {},
   "cell_type": "markdown",
   "metadata": {},
   "source": [
    "> **Note the following:** \n",
    "> 1. This is an example of how to structure your **inaugural project**.\n",
    "> 1. Remember the general advice on structuring and commenting your code\n",
    "> 1. The `inauguralproject.py` file includes a function which can be used multiple times in this notebook."
   ]
  },
  {
   "cell_type": "markdown",
   "metadata": {},
   "source": [
    "Imports and set magics:"
   ]
  },
  {
   "cell_type": "code",
   "execution_count": null,
   "metadata": {},
   "outputs": [],
   "source": [
    "import numpy as np\n",
    "\n",
    "# autoreload modules when code is run. Otherwise, python will not see recent changes. \n",
    "%load_ext autoreload\n",
    "%autoreload 2\n",
    "\n",
    "# Import your own code\n",
    "import inauguralproject"
   ]
  },
  {
   "cell_type": "markdown",
   "metadata": {},
   "source": [
    "# Question 1"
   ]
  },
  {
   "cell_type": "markdown",
   "metadata": {},
   "source": [
    "**Explain how you solve the model**"
   ]
  },
  {
   "cell_type": "code",
   "execution_count": 12,
   "metadata": {},
   "outputs": [
    {
     "name": "stderr",
     "output_type": "stream",
     "text": [
      "/var/folders/vv/t_bqz0156yz6j6lf7zwmwj7w0000gn/T/ipykernel_43901/2100280222.py:69: RuntimeWarning: invalid value encountered in reciprocal\n",
      "  utility = np.fmax(Q,1e-8)**(1-par.rho)/(1-par.rho)\n"
     ]
    },
    {
     "name": "stdout",
     "output_type": "stream",
     "text": [
      "sigma/alpha  0.25  0.50  0.75\n",
      "                             \n",
      "0.5          0.55  1.00  1.83\n",
      "1.0          0.31  1.00  3.25\n",
      "1.5          0.21  1.00  4.67\n"
     ]
    }
   ],
   "source": [
    "# code for solving the model (remember documentation and comments)\n",
    "\n",
    "model = HouseholdSpecializationModelClass()\n",
    "\n",
    "#a. Create list with values of alpha and sigma\n",
    "alpha_list = [0.25, 0.5, 0.75]\n",
    "sigma_list = [0.5,1.0,1.5]\n",
    "\n",
    "df = pd.DataFrame(columns = pd.Index(alpha_list, name=\"sigma/alpha\"), index = pd.Index(sigma_list, name=\"\"))\n",
    "\n",
    "\n",
    "for i in alpha_list:\n",
    "    for j in sigma_list:\n",
    "        model.par.alpha = i\n",
    "        model.par.sigma = j\n",
    "        results = model.solve_discrete()\n",
    "        ratio = results.HF / results.HM\n",
    "        df.loc[j,i] = f\"{ratio:.2f}\"\n",
    "\n",
    "print(df)\n",
    "#print(tabulate(df, headers = alpha_list, tablefmt = \"fancy_grid\")) \n",
    "\n"
   ]
  },
  {
   "cell_type": "markdown",
   "metadata": {},
   "source": [
    "# Question 2"
   ]
  },
  {
   "cell_type": "markdown",
   "metadata": {},
   "source": [
    "Explain your code and procedure"
   ]
  },
  {
   "cell_type": "code",
   "execution_count": 15,
   "metadata": {},
   "outputs": [
    {
     "ename": "AttributeError",
     "evalue": "'float' object has no attribute 'vec'",
     "output_type": "error",
     "traceback": [
      "\u001b[0;31m---------------------------------------------------------------------------\u001b[0m",
      "\u001b[0;31mAttributeError\u001b[0m                            Traceback (most recent call last)",
      "\u001b[0;32m/var/folders/vv/t_bqz0156yz6j6lf7zwmwj7w0000gn/T/ipykernel_43901/1677244500.py\u001b[0m in \u001b[0;36m<module>\u001b[0;34m\u001b[0m\n\u001b[1;32m      8\u001b[0m \u001b[0mlog_w_ratio\u001b[0m \u001b[0;34m=\u001b[0m \u001b[0;34m[\u001b[0m\u001b[0;34m]\u001b[0m\u001b[0;34m\u001b[0m\u001b[0;34m\u001b[0m\u001b[0m\n\u001b[1;32m      9\u001b[0m \u001b[0;34m\u001b[0m\u001b[0m\n\u001b[0;32m---> 10\u001b[0;31m \u001b[0;32mfor\u001b[0m \u001b[0mwF\u001b[0m \u001b[0;32min\u001b[0m \u001b[0mmodel_2\u001b[0m\u001b[0;34m.\u001b[0m\u001b[0mpar\u001b[0m\u001b[0;34m.\u001b[0m\u001b[0mwF\u001b[0m\u001b[0;34m.\u001b[0m\u001b[0mvec\u001b[0m\u001b[0;34m:\u001b[0m\u001b[0;34m\u001b[0m\u001b[0;34m\u001b[0m\u001b[0m\n\u001b[0m\u001b[1;32m     11\u001b[0m     \u001b[0mwF\u001b[0m \u001b[0;34m=\u001b[0m \u001b[0mmodel_2\u001b[0m\u001b[0;34m.\u001b[0m\u001b[0mpar\u001b[0m\u001b[0;34m.\u001b[0m\u001b[0mwF\u001b[0m\u001b[0;34m\u001b[0m\u001b[0;34m\u001b[0m\u001b[0m\n\u001b[1;32m     12\u001b[0m     \u001b[0mwM\u001b[0m \u001b[0;34m=\u001b[0m \u001b[0mmodel_2\u001b[0m\u001b[0;34m.\u001b[0m\u001b[0mpar\u001b[0m\u001b[0;34m.\u001b[0m\u001b[0mwM\u001b[0m\u001b[0;34m\u001b[0m\u001b[0;34m\u001b[0m\u001b[0m\n",
      "\u001b[0;31mAttributeError\u001b[0m: 'float' object has no attribute 'vec'"
     ]
    }
   ],
   "source": [
    "# code\n",
    "#Question 2\n",
    "import matplotlib.pyplot as plt\n",
    "\n",
    "model_2 = HouseholdSpecializationModelClass()\n",
    "\n",
    "log_H_ratio = []\n",
    "log_w_ratio = []\n",
    "\n",
    "for wF in model_2.par.wF.vec:\n",
    "    wF = model_2.par.wF\n",
    "    wM = model_2.par.wM\n",
    "    optimum = model_2.solve.discrete()\n",
    "    log_HFM = np.log(optimum.HF / optimum.HM)\n",
    "    log_H_ratio = np.append(log_H_ratio, log_HFM)\n",
    "    log_wF = np.log(wF / wM)\n",
    "    log_w_ratio = np.append(log_w_ratio , log_wF)\n",
    "\n",
    "\n",
    "# Code for creating the figure\n",
    "\n",
    "figure = plt.figure()\n",
    "\n",
    "ax = fig.add_subplot(1,1,1)\n",
    "ax.plot(log_w_ratio, log_H_ratio, color=\"blue\")\n",
    "ax.set_xlabel(\"log(wF/wM)\")\n",
    "ax.set_ylabel(\"log(HF/HM)\")\n",
    "ax.set_title(\"Figure 2: log (HF/HM) against log(wF/wM) for wF in {}\")\n"
   ]
  },
  {
   "cell_type": "markdown",
   "metadata": {},
   "source": [
    "# Question 3"
   ]
  },
  {
   "cell_type": "markdown",
   "metadata": {},
   "source": [
    "Explain your code and procedure"
   ]
  },
  {
   "cell_type": "code",
   "execution_count": 4,
   "metadata": {},
   "outputs": [],
   "source": [
    "# code"
   ]
  },
  {
   "cell_type": "markdown",
   "metadata": {},
   "source": [
    "ADD CONCISE CONLUSION."
   ]
  }
 ],
 "metadata": {
  "kernelspec": {
   "display_name": "base",
   "language": "python",
   "name": "python3"
  },
  "language_info": {
   "codemirror_mode": {
    "name": "ipython",
    "version": 3
   },
   "file_extension": ".py",
   "mimetype": "text/x-python",
   "name": "python",
   "nbconvert_exporter": "python",
   "pygments_lexer": "ipython3",
   "version": "3.9.13"
  },
  "toc-autonumbering": true,
  "vscode": {
   "interpreter": {
    "hash": "df422541a183e0f3ec83ad888f5142e47905fefefb3149991e8706602493248f"
   }
  }
 },
 "nbformat": 4,
 "nbformat_minor": 4
}

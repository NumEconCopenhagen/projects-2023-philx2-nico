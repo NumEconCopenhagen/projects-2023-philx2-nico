{
 "cells": [
  {
   "cell_type": "markdown",
   "metadata": {},
   "source": [
    "# YOUR PROJECT TITLE"
   ]
  },
  {
   "cell_type": "markdown",
   "metadata": {},
   "source": [
    "Imports and set magics:"
   ]
  },
  {
   "cell_type": "code",
   "execution_count": null,
   "metadata": {},
   "outputs": [],
   "source": []
  },
  {
   "cell_type": "code",
   "execution_count": 23,
   "metadata": {},
   "outputs": [
    {
     "name": "stdout",
     "output_type": "stream",
     "text": [
      "The autoreload extension is already loaded. To reload it, use:\n",
      "  %reload_ext autoreload\n"
     ]
    }
   ],
   "source": [
    "import pandas as pd\n",
    "import numpy as np\n",
    "import matplotlib.pyplot as plt\n",
    "import ipywidgets as widgets\n",
    "\n",
    "# autoreload modules when code is run\n",
    "%load_ext autoreload\n",
    "%autoreload 2\n",
    "\n",
    "# user written modules\n",
    "import dataproject\n",
    "from dataproject import NyboligScraper\n",
    "from dataproject import NyboligAnalysis\n"
   ]
  },
  {
   "attachments": {},
   "cell_type": "markdown",
   "metadata": {},
   "source": [
    "# Scraping data"
   ]
  },
  {
   "attachments": {},
   "cell_type": "markdown",
   "metadata": {},
   "source": [
    "First we need to scrape the data from the internet. The data is scraped from https://www.nybolig.dk/. To know how many pages is possible to scrape you can call the get_pages function of the following property types:\n",
    "\n",
    "**All**: ''\n",
    "**Andelsbolig**: 'andelsbolig'\n",
    "**Ejerlejlighed**: 'ejerlejlighed'\n",
    "**Sommerhusgrunde**: 'fritidsgrund'\n",
    "**Grunde**: 'helaarsgrund'\n",
    "**Hus**: 'hus'\n",
    "**Landejendomme**: 'landejendom'\n",
    "**Rækkehuse**:  'raekkehus'\n",
    "**Sommerhuse**: 'sommerhus'\n",
    "**Villalejligheder**:   'villalejlighed'\n",
    "\n",
    "\n",
    "The number of pages that you choose will determine the size of the dataset."
   ]
  },
  {
   "cell_type": "code",
   "execution_count": 19,
   "metadata": {},
   "outputs": [
    {
     "name": "stdout",
     "output_type": "stream",
     "text": [
      "Total number of pages: 2222\n"
     ]
    }
   ],
   "source": [
    "scraper = NyboligScraper()\n",
    "scraper.get_pages(property_type='')\n"
   ]
  },
  {
   "attachments": {},
   "cell_type": "markdown",
   "metadata": {},
   "source": [
    "Next, we need to identify what property types and how many pages we want to work with. To do this you can call the scraper.scrape_data_nybolig(self, num_pages, property_type=None, file_name=None) function. This will save the desired data into a CSV file that we will be able to work with."
   ]
  },
  {
   "cell_type": "code",
   "execution_count": 43,
   "metadata": {},
   "outputs": [],
   "source": [
    "scraper.scrape_data_nybolig(num_pages=5, property_type='sommerhus', file_name='dataprojekt_data')"
   ]
  },
  {
   "attachments": {},
   "cell_type": "markdown",
   "metadata": {},
   "source": [
    "# Accessing Data"
   ]
  },
  {
   "attachments": {},
   "cell_type": "markdown",
   "metadata": {},
   "source": [
    "Now that we have created the dataset we need to access it. To do this please provide the path of this dictionary with the filename."
   ]
  },
  {
   "cell_type": "code",
   "execution_count": 44,
   "metadata": {},
   "outputs": [
    {
     "name": "stdout",
     "output_type": "stream",
     "text": [
      "                                             address postcode      city  \\\n",
      "0  Egil Fischers Vej 14, Femmøller Strand, 8400 E...     8400  Ebeltoft   \n",
      "1       Nørre Knoldevej 27, Skal Klit, 9800 Hjørring     9800  Hjørring   \n",
      "2       Sellerup Strandvej 79, Sellerup, 7080 Børkop     7080    Børkop   \n",
      "3                       Vandflodvej 25, 6857 Blåvand     6857   Blåvand   \n",
      "4                 Grindevej 14, Ulstrup, 9480 Løkken     9480    Løkken   \n",
      "\n",
      "     price          type  rooms  size_1  size_2  \n",
      "0  5500000  Fritidsbolig      4     177   114.0  \n",
      "1  5400000  Fritidsbolig      8     150     NaN  \n",
      "2  5495000  Fritidsbolig      4     144     NaN  \n",
      "3  3395000  Fritidsbolig      5     178     NaN  \n",
      "4  1998000  Fritidsbolig      5     128     NaN  \n"
     ]
    }
   ],
   "source": [
    "file_path = '/Users/philipgadereumert/Desktop/Uni/Introduction to Programming and Numerical Analysis/projects-2023-philx2-nico/dataproject/dataprojekt_data.csv'\n",
    "data = pd.read_csv('dataprojekt_data.csv')\n",
    "print(data.head())\n"
   ]
  },
  {
   "attachments": {},
   "cell_type": "markdown",
   "metadata": {},
   "source": [
    "# Analysis"
   ]
  },
  {
   "cell_type": "code",
   "execution_count": 46,
   "metadata": {},
   "outputs": [],
   "source": [
    "analysis = NyboligAnalysis(file_path)"
   ]
  },
  {
   "cell_type": "code",
   "execution_count": 47,
   "metadata": {},
   "outputs": [
    {
     "data": {
      "text/html": [
       "<div>\n",
       "<style scoped>\n",
       "    .dataframe tbody tr th:only-of-type {\n",
       "        vertical-align: middle;\n",
       "    }\n",
       "\n",
       "    .dataframe tbody tr th {\n",
       "        vertical-align: top;\n",
       "    }\n",
       "\n",
       "    .dataframe thead th {\n",
       "        text-align: right;\n",
       "    }\n",
       "</style>\n",
       "<table border=\"1\" class=\"dataframe\">\n",
       "  <thead>\n",
       "    <tr style=\"text-align: right;\">\n",
       "      <th></th>\n",
       "      <th>count</th>\n",
       "      <th>mean</th>\n",
       "      <th>std</th>\n",
       "      <th>min</th>\n",
       "      <th>25%</th>\n",
       "      <th>50%</th>\n",
       "      <th>75%</th>\n",
       "      <th>max</th>\n",
       "    </tr>\n",
       "  </thead>\n",
       "  <tbody>\n",
       "    <tr>\n",
       "      <th>price</th>\n",
       "      <td>100</td>\n",
       "      <td>2395560.0</td>\n",
       "      <td>2.128011e+06</td>\n",
       "      <td>545000</td>\n",
       "      <td>1295000.0</td>\n",
       "      <td>1895000.0</td>\n",
       "      <td>2756250.0</td>\n",
       "      <td>17000000</td>\n",
       "    </tr>\n",
       "  </tbody>\n",
       "</table>\n",
       "</div>"
      ],
      "text/plain": [
       "       count       mean           std     min        25%        50%  \\\n",
       "price    100  2395560.0  2.128011e+06  545000  1295000.0  1895000.0   \n",
       "\n",
       "             75%       max  \n",
       "price  2756250.0  17000000  "
      ]
     },
     "execution_count": 47,
     "metadata": {},
     "output_type": "execute_result"
    }
   ],
   "source": [
    "analysis.descriptive_statistics('price')"
   ]
  }
 ],
 "metadata": {
  "kernelspec": {
   "display_name": "base",
   "language": "python",
   "name": "python3"
  },
  "language_info": {
   "codemirror_mode": {
    "name": "ipython",
    "version": 3
   },
   "file_extension": ".py",
   "mimetype": "text/x-python",
   "name": "python",
   "nbconvert_exporter": "python",
   "pygments_lexer": "ipython3",
   "version": "3.9.13"
  },
  "toc-autonumbering": true,
  "vscode": {
   "interpreter": {
    "hash": "6414f8fe8aac9761fd94fa68e17d8f1a905819e4b0a6cd710200bd7e52e65091"
   }
  }
 },
 "nbformat": 4,
 "nbformat_minor": 4
}
